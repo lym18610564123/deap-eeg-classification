{
 "cells": [
  {
   "cell_type": "markdown",
   "metadata": {
    "id": "fjrx_Svjz4i4"
   },
   "source": [
    "**Original dataset:** \n",
    "\n",
    "The dataset is loaded from our Google Drive and could be downloaded [here](https://www.eecs.qmul.ac.uk/mmv/datasets/deap/download.html). "
   ]
  },
  {
   "cell_type": "code",
   "execution_count": null,
   "metadata": {
    "colab": {
     "base_uri": "https://localhost:8080/"
    },
    "id": "5EU9Oy3Xp3yb",
    "outputId": "9168a418-7948-4450-f14b-847f5c56d0b1"
   },
   "outputs": [
    {
     "name": "stdout",
     "output_type": "stream",
     "text": [
      "Mounted at /content/gdrive\n"
     ]
    }
   ],
   "source": [
    "from google.colab import drive\n",
    "drive.mount('/content/gdrive', force_remount=True)"
   ]
  },
  {
   "cell_type": "code",
   "execution_count": null,
   "metadata": {
    "id": "Vyf3uMJNv4Co"
   },
   "outputs": [],
   "source": [
    "import os\n",
    "import pickle\n",
    "import pandas as pd\n",
    "import numpy as np\n",
    "\n",
    "from scipy import signal\n",
    "from scipy.signal import welch\n",
    "from scipy.integrate import simps\n",
    "\n",
    "from sklearn.model_selection import train_test_split\n",
    "from sklearn.preprocessing import StandardScaler\n",
    "from sklearn.decomposition import PCA\n",
    "\n",
    "from sklearn.svm import SVC\n",
    "from sklearn.neighbors import KNeighborsClassifier\n",
    "from sklearn.neural_network import MLPClassifier\n",
    "\n",
    "from sklearn.metrics import confusion_matrix\n",
    "from sklearn.metrics import accuracy_score\n",
    "from sklearn.metrics import precision_recall_curve\n",
    "from sklearn.metrics import f1_score\n",
    "from sklearn.metrics import auc\n",
    "\n",
    "import matplotlib.pyplot as plt\n",
    "import seaborn as sns\n",
    "%matplotlib inline"
   ]
  },
  {
   "cell_type": "markdown",
   "metadata": {
    "id": "o_aflOWKGbi6"
   },
   "source": [
    "# Load and explore dataset"
   ]
  },
  {
   "cell_type": "markdown",
   "metadata": {
    "id": "UfUe0uKxXSCa"
   },
   "source": [
    "The EEG and peripheral physiological signals of 32 participants were recorded as each watched 40 music videos. Participants rated each video in terms of the levels of arousal, valence, dominance, and liking. The data was downsampled (to 128Hz), preprocessed and segmented in pickled Python formats. This version is well-suited to quickly test a classification or regression technique."
   ]
  },
  {
   "cell_type": "code",
   "execution_count": null,
   "metadata": {
    "id": "nvA40VzlLpvj"
   },
   "outputs": [],
   "source": [
    "# Function to load data from each participant file\n",
    "def read_eeg_signal_from_file(filename):\n",
    "    x = pickle._Unpickler(open(filename, 'rb'))\n",
    "    x.encoding = 'latin1'\n",
    "    p = x.load()\n",
    "    return p"
   ]
  },
  {
   "cell_type": "code",
   "execution_count": null,
   "metadata": {
    "colab": {
     "base_uri": "https://localhost:8080/"
    },
    "id": "xXtdo39GnE74",
    "outputId": "67c10ace-0895-46ea-b773-568ff418a8dd"
   },
   "outputs": [
    {
     "name": "stdout",
     "output_type": "stream",
     "text": [
      "['01', '02', '03', '04', '05', '06', '07', '08', '09', '10', '11', '12', '13', '14', '15', '16', '17', '18', '19', '20', '21', '22']\n"
     ]
    }
   ],
   "source": [
    "# Load only 22/32 participants with frontal videos recorded\n",
    "files = []\n",
    "for n in range(1, 23): \n",
    "    s = ''\n",
    "    if n < 10:\n",
    "        s += '0'\n",
    "    s += str(n)\n",
    "    files.append(s)\n",
    "print(files)"
   ]
  },
  {
   "cell_type": "markdown",
   "metadata": {
    "id": "GZ1uxeBNaYPW"
   },
   "source": [
    "Each participant file contains two arrays: a \"data\" array (40 trials x 40 channels x 8064 data) and a \"label\" array (40 trials x 4 label ratings: valence, arousal, dominance, liking). We combine the data files into 2 new arrays with 880 trials for 22 participants."
   ]
  },
  {
   "cell_type": "code",
   "execution_count": null,
   "metadata": {
    "id": "_-88ra8rMgLu"
   },
   "outputs": [],
   "source": [
    "# 22x40 = 880 trials for 22 participants\n",
    "labels = []\n",
    "data = []\n",
    "\n",
    "for i in files: \n",
    "  filename = \"/content/gdrive/Shared drives/Cognitive Systems Project/DEAP_DATASET/data_preprocessed_python/s\" + i + \".dat\"\n",
    "  trial = read_eeg_signal_from_file(filename)\n",
    "  labels.append(trial['labels'])\n",
    "  data.append(trial['data'])\n",
    "\n",
    "# Re-shape arrays into desired shapes\n",
    "labels = np.array(labels)\n",
    "labels = labels.flatten()\n",
    "labels = labels.reshape(880, 4)\n",
    "\n",
    "data = np.array(data)\n",
    "data = data.flatten()\n",
    "data = data.reshape(880, 40, 8064)"
   ]
  },
  {
   "cell_type": "code",
   "execution_count": null,
   "metadata": {
    "colab": {
     "base_uri": "https://localhost:8080/"
    },
    "id": "C1WcNjuRUGaJ",
    "outputId": "c774f234-a2a3-490c-c510-cbf0fefaed28"
   },
   "outputs": [
    {
     "name": "stdout",
     "output_type": "stream",
     "text": [
      "Labels:  (880, 4)\n",
      "Data:  (880, 40, 8064)\n"
     ]
    }
   ],
   "source": [
    "# Double-check the new arrays\n",
    "print(\"Labels: \", labels.shape) # trial x label\n",
    "print(\"Data: \", data.shape) # trial x channel x data"
   ]
  },
  {
   "cell_type": "markdown",
   "metadata": {
    "id": "HbF8zptv1vNb"
   },
   "source": [
    "# Pre-process data"
   ]
  },
  {
   "cell_type": "markdown",
   "metadata": {
    "id": "213JmBn3LpQW"
   },
   "source": [
    "## Labels"
   ]
  },
  {
   "cell_type": "markdown",
   "metadata": {
    "id": "44LeXIJKwFZQ"
   },
   "source": [
    "#### Get Valence and Arousal ratings"
   ]
  },
  {
   "cell_type": "code",
   "execution_count": null,
   "metadata": {
    "colab": {
     "base_uri": "https://localhost:8080/"
    },
    "id": "maidqUjXRcLk",
    "outputId": "138beb08-346b-42f5-d08e-e4a3c03721f8"
   },
   "outputs": [
    {
     "name": "stdout",
     "output_type": "stream",
     "text": [
      "          Valence     Arousal\n",
      "count  880.000000  880.000000\n",
      "mean     5.218034    5.238898\n",
      "std      2.093837    1.879631\n",
      "min      1.000000    1.000000\n",
      "25%      3.650000    3.895000\n",
      "50%      5.040000    5.490000\n",
      "75%      7.040000    6.795000\n",
      "max      9.000000    9.000000\n"
     ]
    }
   ],
   "source": [
    "# Only extract Valence and Arousal ratings\n",
    "df_label_ratings = pd.DataFrame({'Valence': labels[:,0], 'Arousal': labels[:,1]})\n",
    "print(df_label_ratings.describe())"
   ]
  },
  {
   "cell_type": "code",
   "execution_count": null,
   "metadata": {
    "colab": {
     "base_uri": "https://localhost:8080/"
    },
    "id": "ykoCgtKgr_FG",
    "outputId": "4e4afd47-9c00-4ae3-bd2f-af3cc7bb2e4c"
   },
   "outputs": [
    {
     "name": "stdout",
     "output_type": "stream",
     "text": [
      "   Valence  Arousal\n",
      "0     7.71     7.60\n",
      "1     8.10     7.31\n",
      "2     8.58     7.54\n",
      "3     4.94     6.01\n",
      "4     6.96     3.92\n"
     ]
    }
   ],
   "source": [
    "print(df_label_ratings.head(5))"
   ]
  },
  {
   "cell_type": "code",
   "execution_count": null,
   "metadata": {
    "colab": {
     "base_uri": "https://localhost:8080/",
     "height": 282
    },
    "id": "sdaqvn_7gr0o",
    "outputId": "2db15b58-6ddf-481a-f8b9-51783817838f"
   },
   "outputs": [
    {
     "data": {
      "text/plain": [
       "<matplotlib.axes._subplots.AxesSubplot at 0x7f88660ec9d0>"
      ]
     },
     "execution_count": 10,
     "metadata": {
      "tags": []
     },
     "output_type": "execute_result"
    },
    {
     "data": {
      "image/png": "[encoded data removed]",
      "text/plain": [
       "<Figure size 432x288 with 1 Axes>"
      ]
     },
     "metadata": {
      "needs_background": "light",
      "tags": []
     },
     "output_type": "display_data"
    }
   ],
   "source": [
    "# Plot the first 40 data rows (first participant)\n",
    "df_label_ratings.iloc[0:40].plot(style=['o','rx'])"
   ]
  },
  {
   "cell_type": "markdown",
   "metadata": {
    "id": "EMULqzxuv5rG"
   },
   "source": [
    "#### One hot encoding"
   ]
  },
  {
   "cell_type": "code",
   "execution_count": null,
   "metadata": {
    "id": "ODyfQxmdkHph"
   },
   "outputs": [],
   "source": [
    "# Function to check if each trial has positive or negative valence\n",
    "def positive_valence(trial):\n",
    "    return 1 if labels[trial,0] >= np.median(labels[:,0]) else 0 \n",
    "# Function to check if each trial has high or low arousal\n",
    "def high_arousal(trial):\n",
    "    return 1 if labels[trial,1] >= np.median(labels[:,1]) else 0"
   ]
  },
  {
   "cell_type": "code",
   "execution_count": null,
   "metadata": {
    "colab": {
     "base_uri": "https://localhost:8080/"
    },
    "id": "g9J20dcmwWAs",
    "outputId": "9e6dadc5-5306-4639-8ef4-2fcfbd748087"
   },
   "outputs": [
    {
     "name": "stdout",
     "output_type": "stream",
     "text": [
      "       Positive Valence  High Arousal\n",
      "count        880.000000    880.000000\n",
      "mean           0.519318      0.502273\n",
      "std            0.499911      0.500279\n",
      "min            0.000000      0.000000\n",
      "25%            0.000000      0.000000\n",
      "50%            1.000000      1.000000\n",
      "75%            1.000000      1.000000\n",
      "max            1.000000      1.000000\n"
     ]
    }
   ],
   "source": [
    "# Convert all ratings to boolean values\n",
    "labels_encoded = []\n",
    "for i in range (len(labels)):\n",
    "  labels_encoded.append([positive_valence(i), high_arousal(i)])\n",
    "labels_encoded = np.reshape(labels_encoded, (880, 2))\n",
    "df_labels = pd.DataFrame(data=labels_encoded, columns=[\"Positive Valence\", \"High Arousal\"])\n",
    "print(df_labels.describe())"
   ]
  },
  {
   "cell_type": "markdown",
   "metadata": {
    "id": "MbR-yzBmklEv"
   },
   "source": [
    "#### Check positive/negative cases"
   ]
  },
  {
   "cell_type": "code",
   "execution_count": null,
   "metadata": {
    "colab": {
     "base_uri": "https://localhost:8080/"
    },
    "id": "4DWLd5HRnokl",
    "outputId": "514dc906-0a47-4b90-e663-158d4bac7015"
   },
   "outputs": [
    {
     "name": "stdout",
     "output_type": "stream",
     "text": [
      "Positive Valence: 457\n",
      "Negative Valence: 423\n"
     ]
    }
   ],
   "source": [
    "# Dataset with only Valence column\n",
    "df_valence = df_labels['Positive Valence']\n",
    "print(\"Positive Valence:\", str(len(df_labels[df_labels['Positive Valence'] == 1])))\n",
    "print(\"Negative Valence:\", str(len(df_labels[df_labels['Positive Valence'] == 0])))"
   ]
  },
  {
   "cell_type": "code",
   "execution_count": null,
   "metadata": {
    "colab": {
     "base_uri": "https://localhost:8080/"
    },
    "id": "KsBAP8Zodrz8",
    "outputId": "eba06944-08fb-4b80-c873-976734b1605f"
   },
   "outputs": [
    {
     "name": "stdout",
     "output_type": "stream",
     "text": [
      "High Arousal: 442\n",
      "Low Arousal: 438\n"
     ]
    }
   ],
   "source": [
    "# Dataset with only Arousal column\n",
    "df_arousal = df_labels['High Arousal']\n",
    "print(\"High Arousal:\", str(len(df_labels[df_labels['High Arousal'] == 1])))\n",
    "print(\"Low Arousal:\", str(len(df_labels[df_labels['High Arousal'] == 0])))"
   ]
  },
  {
   "cell_type": "code",
   "execution_count": null,
   "metadata": {
    "colab": {
     "base_uri": "https://localhost:8080/"
    },
    "id": "UFilc1tEthVU",
    "outputId": "689f4603-a4ef-4a13-92ba-7c90695e59eb"
   },
   "outputs": [
    {
     "name": "stdout",
     "output_type": "stream",
     "text": [
      "High Arousal Positive Valence: 242\n",
      "Low Arousal Positive Valence: 215\n",
      "High Arousal Negative Valence: 200\n",
      "Low Arousal Negative Valence: 223\n"
     ]
    }
   ],
   "source": [
    "# High Arousal Positive Valence dataset\n",
    "print(\"High Arousal Positive Valence:\", str(len(df_labels[(df_labels['High Arousal'] == 1) & (df_labels['Positive Valence'] == 1)])))\n",
    "\n",
    "# Low Arousal Positive Valence dataset\n",
    "print(\"Low Arousal Positive Valence:\", str(len(df_labels[(df_labels['High Arousal'] == 0) & (df_labels['Positive Valence'] == 1)])))\n",
    "\n",
    "# High Arousal Negative Valence dataset\n",
    "print(\"High Arousal Negative Valence:\", str(len(df_labels[(df_labels['High Arousal'] == 1) & (df_labels['Positive Valence'] == 0)])))\n",
    "\n",
    "# Low Arousal Negative Valence dataset\n",
    "print(\"Low Arousal Negative Valence:\", str(len(df_labels[(df_labels['High Arousal'] == 0) & (df_labels['Positive Valence'] == 0)])))"
   ]
  },
  {
   "cell_type": "markdown",
   "metadata": {
    "id": "qJuZ48FormXW"
   },
   "source": [
    "## Separate EEG and non-EEG data"
   ]
  },
  {
   "cell_type": "markdown",
   "metadata": {
    "id": "lsz1xcTH2Y6w"
   },
   "source": [
    "The dataset includes 32 EEG channels and 8 peripheral physiological channels. The peripheral signals include: electrooculogram (EOG), electromyograms (EMG) of Zygomaticus and Trapezius muscles, GSR, respiration amplitude, blood volume by plethysmograph, skin temperature."
   ]
  },
  {
   "cell_type": "code",
   "execution_count": null,
   "metadata": {
    "id": "6szil8NKrgCC"
   },
   "outputs": [],
   "source": [
    "eeg_channels = np.array([\"Fp1\", \"AF3\", \"F3\", \"F7\", \"FC5\", \"FC1\", \"C3\", \"T7\", \"CP5\", \"CP1\", \"P3\", \"P7\", \"PO3\", \"O1\", \"Oz\", \"Pz\", \"Fp2\", \"AF4\", \"Fz\", \"F4\", \"F8\", \"FC6\", \"FC2\", \"Cz\", \"C4\", \"T8\", \"CP6\", \"CP2\", \"P4\", \"P8\", \"PO4\", \"O2\"])\n",
    "peripheral_channels = np.array([\"hEOG\", \"vEOG\", \"zEMG\", \"tEMG\", \"GSR\", \"Respiration belt\", \"Plethysmograph\", \"Temperature\"])"
   ]
  },
  {
   "cell_type": "code",
   "execution_count": null,
   "metadata": {
    "colab": {
     "base_uri": "https://localhost:8080/"
    },
    "id": "QH6vd18C7A-v",
    "outputId": "55c13a95-6ece-4c80-bb3b-9d91f44177c0"
   },
   "outputs": [
    {
     "name": "stdout",
     "output_type": "stream",
     "text": [
      "(880, 32, 8064)\n"
     ]
    }
   ],
   "source": [
    "eeg_data = []\n",
    "for i in range (len(data)):\n",
    "  for j in range (len(eeg_channels)):\n",
    "    eeg_data.append(data[i,j])\n",
    "eeg_data = np.reshape(eeg_data, (len(data), len(eeg_channels), len(data[0,0])))\n",
    "print(eeg_data.shape)"
   ]
  },
  {
   "cell_type": "code",
   "execution_count": null,
   "metadata": {
    "colab": {
     "base_uri": "https://localhost:8080/"
    },
    "id": "l_0SesQm9My6",
    "outputId": "0926611b-d6ae-4bbc-f939-ddd669068d8b"
   },
   "outputs": [
    {
     "name": "stdout",
     "output_type": "stream",
     "text": [
      "(880, 8, 8064)\n"
     ]
    }
   ],
   "source": [
    "peripheral_data = []\n",
    "for i in range (len(data)):\n",
    "  for j in range (32,len(data[0])):\n",
    "    peripheral_data.append(data[i,j])\n",
    "peripheral_data = np.reshape(peripheral_data, (len(data), len(peripheral_channels), len(data[0,0])))\n",
    "print(peripheral_data.shape)"
   ]
  },
  {
   "cell_type": "markdown",
   "metadata": {
    "id": "waFpwzunvEl_"
   },
   "source": [
    "## EEG data"
   ]
  },
  {
   "cell_type": "markdown",
   "metadata": {
    "id": "PQL4IVupDmQg"
   },
   "source": [
    "### Welch's feature extraction\n",
    "\n",
    "For the EEG data, we use Welch's method to extract theta, alpha, beta, and gamma spectral\n",
    "power for each electrode. The frequency bands used:\n",
    "theta (4 - 8 Hz), alpha (8 - 12 Hz), beta (12 - 30 Hz),\n",
    "and gamma (30 - 64 Hz)."
   ]
  },
  {
   "cell_type": "code",
   "execution_count": null,
   "metadata": {
    "colab": {
     "base_uri": "https://localhost:8080/",
     "height": 204
    },
    "id": "PwoIbwSlEC3T",
    "outputId": "c8a5e2ec-6d0e-4977-bd6e-649933188e3f"
   },
   "outputs": [
    {
     "data": {
      "image/png": "[encoded data removed]",
      "text/plain": [
       "<Figure size 1152x288 with 1 Axes>"
      ]
     },
     "metadata": {
      "tags": []
     },
     "output_type": "display_data"
    }
   ],
   "source": [
    "sns.set(font_scale=1.2)\n",
    "\n",
    "# Define sampling frequency and time vector\n",
    "sf = 128.\n",
    "time = np.arange(eeg_data.size) / sf\n",
    "\n",
    "# Plot the signal of first trial, last channel \n",
    "fig, ax = plt.subplots(1, 1, figsize=(16, 4))\n",
    "plt.plot(eeg_data[0,31], lw=1.5, color='k') \n",
    "plt.xlabel('Time')\n",
    "plt.ylabel('Voltage')\n",
    "sns.despine()"
   ]
  },
  {
   "cell_type": "code",
   "execution_count": null,
   "metadata": {
    "colab": {
     "base_uri": "https://localhost:8080/",
     "height": 306
    },
    "id": "OrrIZjeADoGE",
    "outputId": "dc5e7d1b-b6a6-4eb9-a528-2b60f5871ddb"
   },
   "outputs": [
    {
     "data": {
      "image/png": "[encoded data removed]",
      "text/plain": [
       "<Figure size 576x288 with 1 Axes>"
      ]
     },
     "metadata": {
      "tags": []
     },
     "output_type": "display_data"
    }
   ],
   "source": [
    "# Define window length (4 seconds)\n",
    "win = 4 * sf\n",
    "freqs, psd = signal.welch(eeg_data[0,31], sf, nperseg=win)\n",
    "\n",
    "# Plot the power spectrum\n",
    "sns.set(font_scale=1.2, style='white')\n",
    "plt.figure(figsize=(8, 4))\n",
    "plt.plot(freqs, psd, color='k', lw=2)\n",
    "plt.xlabel('Frequency (Hz)')\n",
    "plt.ylabel('Power spectral density (V^2 / Hz)')\n",
    "plt.ylim([0, psd.max() * 1.1])\n",
    "plt.title(\"Welch's periodogram\")\n",
    "plt.xlim([0, freqs.max()])\n",
    "sns.despine()"
   ]
  },
  {
   "cell_type": "markdown",
   "metadata": {
    "id": "bSIWwDsNHauz"
   },
   "source": [
    "#### Theta band power"
   ]
  },
  {
   "cell_type": "code",
   "execution_count": null,
   "metadata": {
    "colab": {
     "base_uri": "https://localhost:8080/"
    },
    "id": "0MvdeJ65HQJ7",
    "outputId": "62a71026-b5b8-4803-a09a-48c84e44370a"
   },
   "outputs": [
    {
     "data": {
      "image/png": "[encoded data removed]",
      "text/plain": [
       "<Figure size 504x288 with 1 Axes>"
      ]
     },
     "metadata": {
      "tags": []
     },
     "output_type": "display_data"
    }
   ],
   "source": [
    "# Define theta lower and upper limits\n",
    "low, high = 4, 8\n",
    "\n",
    "# Find intersecting values in frequency vector\n",
    "idx_theta = np.logical_and(freqs >= low, freqs <= high)\n",
    "\n",
    "# Plot the power spectral density and fill the theta area\n",
    "plt.figure(figsize=(7, 4))\n",
    "plt.plot(freqs, psd, lw=2, color='k')\n",
    "plt.fill_between(freqs, psd, where=idx_theta, color='skyblue')\n",
    "plt.xlabel('Frequency (Hz)')\n",
    "plt.ylabel('Power spectral density (uV^2 / Hz)')\n",
    "plt.xlim([0, 50])\n",
    "plt.ylim([0, psd.max() * 1.1])\n",
    "plt.title(\"Welch's periodogram\")\n",
    "sns.despine()"
   ]
  },
  {
   "cell_type": "markdown",
   "metadata": {
    "id": "AwdusXNJGfqg"
   },
   "source": [
    "#### Alpha band power"
   ]
  },
  {
   "cell_type": "code",
   "execution_count": null,
   "metadata": {
    "colab": {
     "base_uri": "https://localhost:8080/",
     "height": 306
    },
    "id": "6hjuXM_SGhQI",
    "outputId": "073e3d52-dc62-4ef0-e57f-bc888b1baac3"
   },
   "outputs": [
    {
     "data": {
      "image/png": "[encoded data removed]",
      "text/plain": [
       "<Figure size 504x288 with 1 Axes>"
      ]
     },
     "metadata": {
      "tags": []
     },
     "output_type": "display_data"
    }
   ],
   "source": [
    "# Define alpha lower and upper limits\n",
    "low, high = 8, 12\n",
    "\n",
    "# Find intersecting values in frequency vector\n",
    "idx_alpha = np.logical_and(freqs >= low, freqs <= high)\n",
    "\n",
    "# Plot the power spectral density and fill the alpha area\n",
    "plt.figure(figsize=(7, 4))\n",
    "plt.plot(freqs, psd, lw=2, color='k')\n",
    "plt.fill_between(freqs, psd, where=idx_alpha, color='skyblue')\n",
    "plt.xlabel('Frequency (Hz)')\n",
    "plt.ylabel('Power spectral density (uV^2 / Hz)')\n",
    "plt.xlim([0, 50])\n",
    "plt.ylim([0, psd.max() * 1.1])\n",
    "plt.title(\"Welch's periodogram\")\n",
    "sns.despine()"
   ]
  },
  {
   "cell_type": "markdown",
   "metadata": {
    "id": "IO2bKkvRGx6-"
   },
   "source": [
    "#### Beta band power"
   ]
  },
  {
   "cell_type": "code",
   "execution_count": null,
   "metadata": {
    "colab": {
     "base_uri": "https://localhost:8080/",
     "height": 306
    },
    "id": "mhV9AdmRGuLH",
    "outputId": "19610ff8-4b8d-442d-f582-b410bcff6618"
   },
   "outputs": [
    {
     "data": {
      "image/png": "[encoded data removed]",
      "text/plain": [
       "<Figure size 504x288 with 1 Axes>"
      ]
     },
     "metadata": {
      "tags": []
     },
     "output_type": "display_data"
    }
   ],
   "source": [
    "# Define beta lower and upper limits\n",
    "low, high = 12, 30\n",
    "\n",
    "# Find intersecting values in frequency vector\n",
    "idx_beta = np.logical_and(freqs >= low, freqs <= high)\n",
    "\n",
    "# Plot the power spectral density and fill the beta area\n",
    "plt.figure(figsize=(7, 4))\n",
    "plt.plot(freqs, psd, lw=2, color='k')\n",
    "plt.fill_between(freqs, psd, where=idx_beta, color='skyblue')\n",
    "plt.xlabel('Frequency (Hz)')\n",
    "plt.ylabel('Power spectral density (uV^2 / Hz)')\n",
    "plt.xlim([0, 50])\n",
    "plt.ylim([0, psd.max() * 1.1])\n",
    "plt.title(\"Welch's periodogram\")\n",
    "sns.despine()"
   ]
  },
  {
   "cell_type": "markdown",
   "metadata": {
    "id": "gS3uZ_ADGdkm"
   },
   "source": [
    "#### Gamma band power"
   ]
  },
  {
   "cell_type": "code",
   "execution_count": null,
   "metadata": {
    "colab": {
     "base_uri": "https://localhost:8080/",
     "height": 306
    },
    "id": "EW0itnxAFigK",
    "outputId": "cee52191-a75f-4d78-c9ee-aacb84b02fb4"
   },
   "outputs": [
    {
     "data": {
      "image/png": "[encoded data removed]",
      "text/plain": [
       "<Figure size 504x288 with 1 Axes>"
      ]
     },
     "metadata": {
      "tags": []
     },
     "output_type": "display_data"
    }
   ],
   "source": [
    "# Define delta lower and upper limits\n",
    "low, high = 30, 64\n",
    "\n",
    "# Find intersecting values in frequency vector\n",
    "idx_gamma = np.logical_and(freqs >= low, freqs <= high)\n",
    "\n",
    "# Plot the power spectral density and fill the gamma area\n",
    "plt.figure(figsize=(7, 4))\n",
    "plt.plot(freqs, psd, lw=2, color='k')\n",
    "plt.fill_between(freqs, psd, where=idx_gamma, color='skyblue')\n",
    "plt.xlabel('Frequency (Hz)')\n",
    "plt.ylabel('Power spectral density (uV^2 / Hz)')\n",
    "plt.xlim([0, 50])\n",
    "plt.ylim([0, psd.max() * 1.1])\n",
    "plt.title(\"Welch's periodogram\")\n",
    "sns.despine()"
   ]
  },
  {
   "cell_type": "markdown",
   "metadata": {
    "id": "VFh9c8v5IoM9"
   },
   "source": [
    "#### Functions to get band power values"
   ]
  },
  {
   "cell_type": "code",
   "execution_count": null,
   "metadata": {
    "id": "z1ZQs2q3Hnno"
   },
   "outputs": [],
   "source": [
    "\"\"\"Compute the average power of the signal x in a specific frequency band.\n",
    "\n",
    "    Parameters\n",
    "    ----------\n",
    "    data : 1d-array\n",
    "        Input signal in the time-domain.\n",
    "    sf : float\n",
    "        Sampling frequency of the data.\n",
    "    band : list\n",
    "        Lower and upper frequencies of the band of interest.\n",
    "    window_sec : float\n",
    "        Length of each window in seconds.\n",
    "        If None, window_sec = (1 / min(band)) * 2\n",
    "    relative : boolean\n",
    "        If True, return the relative power (= divided by the total power of the signal).\n",
    "        If False (default), return the absolute power.\n",
    "\n",
    "    Return\n",
    "    ------\n",
    "    bp : float\n",
    "        Absolute or relative band power.\n",
    "    \"\"\"\n",
    "def bandpower(data, sf, band, window_sec=None, relative=False):\n",
    "    band = np.asarray(band)\n",
    "    low, high = band\n",
    "\n",
    "    # Define window length\n",
    "    if window_sec is not None:\n",
    "        nperseg = window_sec * sf\n",
    "    else:\n",
    "        nperseg = (2 / low) * sf\n",
    "\n",
    "    # Compute the modified periodogram (Welch)\n",
    "    freqs, psd = welch(data, sf, nperseg=nperseg)\n",
    "\n",
    "    # Frequency resolution\n",
    "    freq_res = freqs[1] - freqs[0]\n",
    "\n",
    "    # Find closest indices of band in frequency vector\n",
    "    idx_band = np.logical_and(freqs >= low, freqs <= high)\n",
    "\n",
    "    # Integral approximation of the spectrum using Simpson's rule.\n",
    "    bp = simps(psd[idx_band], dx=freq_res)\n",
    "\n",
    "    if relative:\n",
    "        bp /= simps(psd, dx=freq_res)\n",
    "    return bp"
   ]
  },
  {
   "cell_type": "code",
   "execution_count": null,
   "metadata": {
    "colab": {
     "base_uri": "https://localhost:8080/"
    },
    "id": "CN81MihX5ZbU",
    "outputId": "e9331e5f-6b03-4d8a-abcf-f6b4d75d3a67"
   },
   "outputs": [
    {
     "name": "stdout",
     "output_type": "stream",
     "text": [
      "5.434119660168186\n",
      "5.369595513295194\n",
      "6.286556266834863\n",
      "0.9879159580139809\n"
     ]
    }
   ],
   "source": [
    "def get_band_power(trial, channel, band):\n",
    "  bd = (0,0)\n",
    "\n",
    "  if (band == \"theta\"): # drownsiness, emotional connection, intuition, creativity\n",
    "    bd = (4,8)\n",
    "  elif (band == \"alpha\"): # reflection, relaxation\n",
    "    bd = (8,12)\n",
    "  elif (band == \"beta\"): # concentration, problem solving, memory\n",
    "    bd = (12,30)\n",
    "  elif (band == \"gamma\"): # cognition, perception, learning, multi-tasking\n",
    "    bd = (30,64)\n",
    "  \n",
    "  return bandpower(eeg_data[trial,channel], 128, bd)\n",
    "\n",
    "print(get_band_power(0,31,\"theta\"))\n",
    "print(get_band_power(0,31,\"alpha\"))\n",
    "print(get_band_power(0,31,\"beta\"))\n",
    "print(get_band_power(0,31,\"gamma\"))"
   ]
  },
  {
   "cell_type": "markdown",
   "metadata": {
    "id": "Vm_iTpEy_LJy"
   },
   "source": [
    "### Process new datasets with 6 EEG regions and 4 band power values"
   ]
  },
  {
   "cell_type": "code",
   "execution_count": null,
   "metadata": {
    "id": "uPAKkeLoX1m-"
   },
   "outputs": [],
   "source": [
    "# Transform 880 x 32 x 8064 => 880 x 32 x 4\n",
    "eeg_band_arr = []\n",
    "for i in range (len(eeg_data)):\n",
    "  for j in range (len(eeg_data[0])):\n",
    "    eeg_band_arr.append(get_band_power(i,j,\"theta\"))\n",
    "    eeg_band_arr.append(get_band_power(i,j,\"alpha\"))\n",
    "    eeg_band_arr.append(get_band_power(i,j,\"beta\"))\n",
    "    eeg_band_arr.append(get_band_power(i,j,\"gamma\"))\n",
    "eeg_band_arr = np.reshape(eeg_band_arr, (880, 32, 4))"
   ]
  },
  {
   "cell_type": "markdown",
   "metadata": {
    "id": "2pUbENit2g6K"
   },
   "source": [
    "EEG channels are divided into 6 groups, according to their cerebral spatial locations. We combine the frontal-left and temporal-left channels into the **left** group, and the frontal-right and temporal-right channels into the **right** group. The **frontal** group only includes the fronto-central channels. All centro-parietal channels are included in the **central** group."
   ]
  },
  {
   "cell_type": "code",
   "execution_count": null,
   "metadata": {
    "id": "eUinxvZMnN6m"
   },
   "outputs": [],
   "source": [
    "left = np.array([\"Fp1\", \"AF3\", \"F7\", \"FC5\", \"T7\"])\n",
    "right = np.array([\"Fp2\", \"AF4\", \"F8\", \"FC6\", \"T8\"])\n",
    "frontal = np.array([\"F3\", \"FC1\", \"Fz\", \"F4\", \"FC2\"])\n",
    "parietal = np.array([\"P3\", \"P7\", \"PO3\", \"Pz\", \"P4\", \"P8\", \"PO4\"])\n",
    "occipital = np.array([\"O1\", \"Oz\", \"O2\"])\n",
    "central = np.array([\"CP5\", \"CP1\", \"Cz\", \"C4\", \"C3\", \"CP6\", \"CP2\"])"
   ]
  },
  {
   "cell_type": "markdown",
   "metadata": {
    "id": "UT6wjhN-Z_eY"
   },
   "source": [
    "#### Dataframe for Theta power values"
   ]
  },
  {
   "cell_type": "code",
   "execution_count": null,
   "metadata": {
    "colab": {
     "base_uri": "https://localhost:8080/"
    },
    "id": "zfSLIKTWaD8l",
    "outputId": "fff5065f-c9d5-4f07-afe7-fb66afcd583e"
   },
   "outputs": [
    {
     "name": "stdout",
     "output_type": "stream",
     "text": [
      "                Fp1           AF3  ...           PO4            O2\n",
      "count    880.000000    880.000000  ...    880.000000    880.000000\n",
      "mean     547.699828   1275.383637  ...    810.241713    445.032766\n",
      "std     1217.588842   3736.181334  ...   1937.328397   1285.492111\n",
      "min        2.698928      3.034321  ...      3.678479      3.681268\n",
      "25%       24.093211     18.601381  ...     27.492929     18.065682\n",
      "50%       58.450614     72.755754  ...     66.291245     59.377992\n",
      "75%      366.274753    313.477898  ...    463.254689    137.771412\n",
      "max    15524.135098  38122.870846  ...  17167.017710  12314.030522\n",
      "\n",
      "[8 rows x 32 columns]\n"
     ]
    }
   ],
   "source": [
    "eeg_theta = []\n",
    "for i in range (len(eeg_data)):\n",
    "  for j in range (len(eeg_data[0])):\n",
    "    eeg_theta.append(get_band_power(i,j,\"theta\"))\n",
    "eeg_theta = np.reshape(eeg_theta, (880, 32))\n",
    "\n",
    "df_theta = pd.DataFrame(data = eeg_theta, columns=eeg_channels)\n",
    "print(df_theta.describe())"
   ]
  },
  {
   "cell_type": "code",
   "execution_count": null,
   "metadata": {
    "colab": {
     "base_uri": "https://localhost:8080/"
    },
    "id": "Qi6l0sMbbB9b",
    "outputId": "e9c70e8b-ef3d-4159-c437-66093a89f893"
   },
   "outputs": [
    {
     "name": "stdout",
     "output_type": "stream",
     "text": [
      "        CP5       CP1        Cz        C4        C3       CP6       CP2\n",
      "0  2.722879  1.597882  2.085303  2.697530  3.247666  1.806959  1.623311\n",
      "1  3.478843  2.101888  2.518165  3.853129  4.530124  2.086140  2.048768\n",
      "2  3.711943  1.890259  2.386166  3.942938  4.284358  2.503685  1.974655\n",
      "3  4.004765  1.883543  7.414694  3.498076  4.171965  2.529543  1.736048\n",
      "4  1.857737  1.447578  1.993286  1.803010  1.798486  1.496299  1.577524\n"
     ]
    }
   ],
   "source": [
    "# Only print central channels\n",
    "print(df_theta[central].head(5)) "
   ]
  },
  {
   "cell_type": "markdown",
   "metadata": {
    "id": "3M5NAOt2cnsK"
   },
   "source": [
    "#### Dataframe for Alpha power values"
   ]
  },
  {
   "cell_type": "code",
   "execution_count": null,
   "metadata": {
    "colab": {
     "base_uri": "https://localhost:8080/"
    },
    "id": "AE0PyVhqcnsO",
    "outputId": "87dfde78-9157-4c56-86d5-fb764154df28"
   },
   "outputs": [
    {
     "name": "stdout",
     "output_type": "stream",
     "text": [
      "               Fp1           AF3  ...          PO4           O2\n",
      "count   880.000000    880.000000  ...   880.000000   880.000000\n",
      "mean    182.780787    433.010540  ...   278.619376   169.975618\n",
      "std     397.609258   1257.592452  ...   642.329264   476.333660\n",
      "min       2.770151      2.600120  ...     4.252881     3.617116\n",
      "25%      14.191465     11.606644  ...    15.389916     9.851048\n",
      "50%      33.255285     30.578066  ...    28.394329    26.317698\n",
      "75%     143.122306    113.219878  ...   152.594417    52.167914\n",
      "max    5627.906982  12380.702125  ...  5542.263376  3966.714864\n",
      "\n",
      "[8 rows x 32 columns]\n"
     ]
    }
   ],
   "source": [
    "eeg_alpha = []\n",
    "for i in range (len(eeg_data)):\n",
    "  for j in range (len(eeg_data[0])):\n",
    "    eeg_alpha.append(get_band_power(i,j,\"alpha\"))\n",
    "eeg_alpha = np.reshape(eeg_alpha, (880, 32))\n",
    "\n",
    "df_alpha = pd.DataFrame(data = eeg_alpha, columns=eeg_channels)\n",
    "print(df_alpha.describe())"
   ]
  },
  {
   "cell_type": "code",
   "execution_count": null,
   "metadata": {
    "colab": {
     "base_uri": "https://localhost:8080/"
    },
    "id": "ismaJTpAcnsP",
    "outputId": "0e531c76-6766-4f57-8758-061a2092cd7a"
   },
   "outputs": [
    {
     "name": "stdout",
     "output_type": "stream",
     "text": [
      "         O1        Oz        O2\n",
      "0  5.312906  4.764141  5.369596\n",
      "1  5.771424  5.657407  6.850178\n",
      "2  6.263437  5.958844  8.209320\n",
      "3  5.632504  5.341003  6.541218\n",
      "4  4.457119  4.057350  5.195625\n"
     ]
    }
   ],
   "source": [
    "# Only print occipital channels\n",
    "print(df_alpha[occipital].head(5)) "
   ]
  },
  {
   "cell_type": "markdown",
   "metadata": {
    "id": "hdjUxI0hdi0v"
   },
   "source": [
    "#### Dataframe for Beta power values"
   ]
  },
  {
   "cell_type": "code",
   "execution_count": null,
   "metadata": {
    "colab": {
     "base_uri": "https://localhost:8080/"
    },
    "id": "ppP9mP-odi06",
    "outputId": "c2cad954-e4bb-4555-cc9d-78d0bb439688"
   },
   "outputs": [
    {
     "name": "stdout",
     "output_type": "stream",
     "text": [
      "               Fp1          AF3  ...          PO4           O2\n",
      "count   880.000000   880.000000  ...   880.000000   880.000000\n",
      "mean    101.611223   263.952803  ...   160.492195   122.210202\n",
      "std     198.334644   796.392259  ...   375.458426   327.015453\n",
      "min       4.833550     4.883739  ...     3.603766     5.084168\n",
      "25%      18.086819    11.982996  ...    14.524542    11.077585\n",
      "50%      34.722505    25.125524  ...    24.013031    19.815355\n",
      "75%      85.835547   126.899960  ...    77.211081    40.988955\n",
      "max    3528.485435  5784.160193  ...  2516.334382  2454.759737\n",
      "\n",
      "[8 rows x 32 columns]\n"
     ]
    }
   ],
   "source": [
    "eeg_beta = []\n",
    "for i in range (len(eeg_data)):\n",
    "  for j in range (len(eeg_data[0])):\n",
    "    eeg_beta.append(get_band_power(i,j,\"beta\"))\n",
    "eeg_beta = np.reshape(eeg_beta, (880, 32))\n",
    "\n",
    "df_beta = pd.DataFrame(data = eeg_beta, columns=eeg_channels)\n",
    "print(df_beta.describe())"
   ]
  },
  {
   "cell_type": "code",
   "execution_count": null,
   "metadata": {
    "colab": {
     "base_uri": "https://localhost:8080/"
    },
    "id": "bSX3gljYdi07",
    "outputId": "36f55666-054a-4430-901f-4a5a6e92f0b9"
   },
   "outputs": [
    {
     "name": "stdout",
     "output_type": "stream",
     "text": [
      "         F3       FC1        Fz        F4       FC2\n",
      "0  7.240253  3.715183  6.141210  6.747430  4.908805\n",
      "1  7.867709  4.306246  6.653116  7.969135  5.800412\n",
      "2  9.839357  4.390210  7.598063  9.444911  6.377253\n",
      "3  7.032711  3.946574  6.481246  6.763315  5.341841\n",
      "4  6.021147  3.145262  5.356596  5.797735  4.608033\n"
     ]
    }
   ],
   "source": [
    "# Only print frontal channels\n",
    "print(df_beta[frontal].head(5)) "
   ]
  },
  {
   "cell_type": "markdown",
   "metadata": {
    "id": "wN4162ixeK9w"
   },
   "source": [
    "#### Dataframe for Gamma power values"
   ]
  },
  {
   "cell_type": "code",
   "execution_count": null,
   "metadata": {
    "colab": {
     "base_uri": "https://localhost:8080/"
    },
    "id": "SrkOeQvheK90",
    "outputId": "63208e9b-b4ef-47eb-993f-ef4c47a23160"
   },
   "outputs": [
    {
     "name": "stdout",
     "output_type": "stream",
     "text": [
      "               Fp1          AF3  ...          PO4           O2\n",
      "count   880.000000   880.000000  ...   880.000000   880.000000\n",
      "mean     64.360730   209.707060  ...    99.862476    78.234919\n",
      "std     161.216361   771.449190  ...   323.710395   241.881491\n",
      "min       1.069233     1.119910  ...     0.838747     0.877576\n",
      "25%       9.012946     5.500269  ...     5.660221     4.285074\n",
      "50%      20.679781    14.559035  ...    11.397268     9.613644\n",
      "75%      48.359529    74.742440  ...    37.327202    20.340344\n",
      "max    3213.255538  6060.539788  ...  2505.826127  1794.801694\n",
      "\n",
      "[8 rows x 32 columns]\n"
     ]
    }
   ],
   "source": [
    "eeg_gamma = []\n",
    "for i in range (len(eeg_data)):\n",
    "  for j in range (len(eeg_data[0])):\n",
    "    eeg_gamma.append(get_band_power(i,j,\"gamma\"))\n",
    "eeg_gamma = np.reshape(eeg_gamma, (880, 32))\n",
    "\n",
    "df_gamma = pd.DataFrame(data = eeg_gamma, columns=eeg_channels)\n",
    "print(df_gamma.describe())"
   ]
  },
  {
   "cell_type": "code",
   "execution_count": null,
   "metadata": {
    "colab": {
     "base_uri": "https://localhost:8080/"
    },
    "id": "FMH5JAIkeK91",
    "outputId": "62496116-f618-43c2-d98c-3dc2335b0b07"
   },
   "outputs": [
    {
     "name": "stdout",
     "output_type": "stream",
     "text": [
      "         P3        P7       PO3        Pz        P4        P8       PO4\n",
      "0  1.348347  2.099580  1.379104  0.578703  1.583309  1.242910  1.177492\n",
      "1  1.337080  1.699067  1.090257  0.590830  1.594279  1.462509  1.253575\n",
      "2  1.405996  2.340776  1.130095  0.614935  1.759804  1.651851  1.479029\n",
      "3  1.127093  1.381447  1.138545  0.555637  1.406085  0.804002  1.132223\n",
      "4  1.031171  1.626731  0.975475  0.535351  1.275852  1.514359  1.036078\n"
     ]
    }
   ],
   "source": [
    "# Only print parietal channels\n",
    "print(df_gamma[parietal].head(5)) "
   ]
  },
  {
   "cell_type": "markdown",
   "metadata": {
    "id": "eQlRP4LrOMlk"
   },
   "source": [
    "# Train-test split and feature scaling"
   ]
  },
  {
   "cell_type": "code",
   "execution_count": null,
   "metadata": {
    "id": "Wmoxv3CbaGTL"
   },
   "outputs": [],
   "source": [
    "# Split the data into training/testing sets\n",
    "def split_train_test(x, y):\n",
    "  x_train, x_test, y_train, y_test = train_test_split(x, y, test_size=0.30, random_state=42)\n",
    "  return x_train, x_test, y_train, y_test"
   ]
  },
  {
   "cell_type": "code",
   "execution_count": null,
   "metadata": {
    "id": "Jk7-M20caZ6r"
   },
   "outputs": [],
   "source": [
    "# Feature scaling\n",
    "def feature_scaling(train, test):\n",
    "  sc = StandardScaler()\n",
    "  train = sc.fit_transform(train)\n",
    "  test = sc.transform(test)\n",
    "  return train, test"
   ]
  },
  {
   "cell_type": "markdown",
   "metadata": {
    "id": "Tuz9KEva1TSX"
   },
   "source": [
    "# Apply classifiers"
   ]
  },
  {
   "cell_type": "code",
   "execution_count": null,
   "metadata": {
    "id": "oPxDs36P6IGn"
   },
   "outputs": [],
   "source": [
    "band_names = np.array([\"theta\", \"alpha\", \"beta\", \"gamma\"])\n",
    "channel_names = np.array([\"left\", \"frontal\", \"right\", \"central\", \"parietal\", \"occipital\"])\n",
    "label_names = np.array([\"valence\", \"arousal\"])"
   ]
  },
  {
   "cell_type": "code",
   "execution_count": null,
   "metadata": {
    "id": "vVJeIrFx6Kjg"
   },
   "outputs": [],
   "source": [
    "# Testing different kernels (linear, sigmoid, rbf, poly) to select the most optimal one\n",
    "clf_svm = SVC(kernel = 'rbf', random_state = 42, probability=True)"
   ]
  },
  {
   "cell_type": "code",
   "execution_count": null,
   "metadata": {
    "id": "HNlNfGunJLgz"
   },
   "outputs": [],
   "source": [
    "# Testing different k (odd) numbers, algorithm (auto, ball_tree, kd_tree) and weight (uniform, distance) to select the most optimal one\n",
    "clf_knn = KNeighborsClassifier(n_neighbors=5, weights='uniform', algorithm='auto')"
   ]
  },
  {
   "cell_type": "code",
   "execution_count": null,
   "metadata": {
    "id": "g5i16sQRJLq1"
   },
   "outputs": [],
   "source": [
    "# Testing different learning rate (alpha), solver (adam, sgd, lbfgs) and activation (relu, tanh, logistic) to select the most optimal one\n",
    "clf_mlp = MLPClassifier(solver='adam', activation='relu', alpha=0.3)"
   ]
  },
  {
   "cell_type": "markdown",
   "metadata": {
    "id": "0yRqQN3AJE64"
   },
   "source": [
    "##Accuracy"
   ]
  },
  {
   "cell_type": "code",
   "execution_count": null,
   "metadata": {
    "id": "4huP8jJb1koq"
   },
   "outputs": [],
   "source": [
    "def get_accuracy(band, channel, label, clf):\n",
    "\n",
    "  if (band == \"theta\"):\n",
    "    df_x = df_theta\n",
    "  elif (band == \"alpha\"):\n",
    "    df_x = df_alpha\n",
    "  elif (band == \"beta\"):\n",
    "    df_x = df_beta\n",
    "  elif (band == \"gamma\"):\n",
    "    df_x = df_gamma\n",
    "\n",
    "  if (channel == \"left\"):\n",
    "    df_x = df_x[left]\n",
    "  elif (channel == \"right\"):\n",
    "    df_x = df_x[right]\n",
    "  elif (channel == \"frontal\"):\n",
    "    df_x = df_x[frontal]\n",
    "  elif (channel == \"central\"):\n",
    "    df_x = df_x[central]\n",
    "  elif (channel == \"parietal\"):\n",
    "    df_x = df_x[parietal]\n",
    "  elif (channel == \"occipital\"):\n",
    "    df_x = df_x[occipital]\n",
    "\n",
    "  df_y = df_arousal if (label == \"arousal\") else df_valence\n",
    "\n",
    "  x_train, x_test, y_train, y_test = split_train_test(df_x, df_y)\n",
    "  x_train, x_test = feature_scaling(x_train, x_test)\n",
    "\n",
    "  if (clf == \"svm\"):\n",
    "    clf_svm.fit(x_train, y_train)\n",
    "    y_predict = clf_svm.predict(x_test)\n",
    "  elif (clf == \"knn\"):\n",
    "    clf_knn.fit(x_train, y_train)\n",
    "    y_predict = clf_knn.predict(x_test)\n",
    "  elif (clf == \"mlp\"):\n",
    "    clf_mlp.fit(x_train, y_train)\n",
    "    y_predict = clf_mlp.predict(x_test)\n",
    "\n",
    "  # print(confusion_matrix(y_test, y_predict))\n",
    "\n",
    "  return np.round(accuracy_score(y_test, y_predict)*100,2)"
   ]
  },
  {
   "cell_type": "code",
   "execution_count": null,
   "metadata": {
    "id": "iJuy1ANE_EJZ"
   },
   "outputs": [],
   "source": [
    "def print_accuracy(label, clf):\n",
    "  arr = []\n",
    "  for i in range (len(band_names)):\n",
    "    for j in range (len(channel_names)): \n",
    "      arr.append(get_accuracy(band_names[i], channel_names[j], label, clf))\n",
    "  arr = np.reshape(arr, (4,6))\n",
    "  df = pd.DataFrame(data = arr, index=band_names, columns=channel_names)\n",
    "\n",
    "  print(df.apply(lambda s: s.abs()).max().nlargest(3))\n",
    "  print()\n",
    "  print(df.apply(lambda s: s.abs()).max(axis=1).nlargest(2))\n",
    "  print()\n",
    "  print(df.idxmax(axis=1))\n",
    "  print()\n",
    "  print(df.idxmax())\n",
    "  print()\n",
    "  print(df)"
   ]
  },
  {
   "cell_type": "markdown",
   "metadata": {
    "id": "jL7T2cQsJIVm"
   },
   "source": [
    "###SVM classifier"
   ]
  },
  {
   "cell_type": "code",
   "execution_count": null,
   "metadata": {
    "colab": {
     "base_uri": "https://localhost:8080/"
    },
    "id": "Rb0v9vzmFmw_",
    "outputId": "0cd62ab5-7e66-4009-ebd3-b08e92cb9126"
   },
   "outputs": [
    {
     "name": "stdout",
     "output_type": "stream",
     "text": [
      "right        56.44\n",
      "occipital    56.06\n",
      "frontal      55.30\n",
      "dtype: float64\n",
      "\n",
      "gamma    56.44\n",
      "alpha    56.06\n",
      "dtype: float64\n",
      "\n",
      "theta    occipital\n",
      "alpha    occipital\n",
      "beta     occipital\n",
      "gamma        right\n",
      "dtype: object\n",
      "\n",
      "left         theta\n",
      "frontal      gamma\n",
      "right        gamma\n",
      "central      gamma\n",
      "parietal     theta\n",
      "occipital    alpha\n",
      "dtype: object\n",
      "\n",
      "        left  frontal  right  central  parietal  occipital\n",
      "theta  54.17    51.89  54.17    51.52     51.89      54.55\n",
      "alpha  53.41    51.14  54.55    52.65     50.38      56.06\n",
      "beta   53.03    50.00  54.17    52.65     46.59      54.55\n",
      "gamma  48.86    55.30  56.44    55.30     50.38      55.30\n"
     ]
    }
   ],
   "source": [
    "print_accuracy('valence', 'svm')"
   ]
  },
  {
   "cell_type": "code",
   "execution_count": null,
   "metadata": {
    "colab": {
     "base_uri": "https://localhost:8080/"
    },
    "id": "pdmXfYw0Fv0l",
    "outputId": "91de4f20-48a4-40dd-e94e-6c0550a04c97"
   },
   "outputs": [
    {
     "name": "stdout",
     "output_type": "stream",
     "text": [
      "parietal    57.58\n",
      "left        55.30\n",
      "frontal     55.30\n",
      "dtype: float64\n",
      "\n",
      "beta     57.58\n",
      "alpha    57.20\n",
      "dtype: float64\n",
      "\n",
      "theta    parietal\n",
      "alpha    parietal\n",
      "beta     parietal\n",
      "gamma    parietal\n",
      "dtype: object\n",
      "\n",
      "left         gamma\n",
      "frontal      alpha\n",
      "right        gamma\n",
      "central      alpha\n",
      "parietal      beta\n",
      "occipital    theta\n",
      "dtype: object\n",
      "\n",
      "        left  frontal  right  central  parietal  occipital\n",
      "theta  51.89    54.17  51.89    53.79     56.06      53.03\n",
      "alpha  51.14    55.30  52.27    54.17     57.20      52.65\n",
      "beta   54.17    53.79  52.27    53.03     57.58      51.89\n",
      "gamma  55.30    52.27  53.03    53.41     56.06      51.89\n"
     ]
    }
   ],
   "source": [
    "print_accuracy('arousal', 'svm')"
   ]
  },
  {
   "cell_type": "markdown",
   "metadata": {
    "id": "Qu8s_8E4Lq6X"
   },
   "source": [
    "###k-NN classifier"
   ]
  },
  {
   "cell_type": "code",
   "execution_count": null,
   "metadata": {
    "colab": {
     "base_uri": "https://localhost:8080/"
    },
    "id": "jYWZW53wLq6h",
    "outputId": "c2e167c8-0af1-40be-9c62-e1995e0f1d2b"
   },
   "outputs": [
    {
     "name": "stdout",
     "output_type": "stream",
     "text": [
      "central     63.64\n",
      "frontal     61.36\n",
      "parietal    61.36\n",
      "dtype: float64\n",
      "\n",
      "beta     63.64\n",
      "gamma    60.98\n",
      "dtype: float64\n",
      "\n",
      "theta    occipital\n",
      "alpha     parietal\n",
      "beta       central\n",
      "gamma     parietal\n",
      "dtype: object\n",
      "\n",
      "left          beta\n",
      "frontal       beta\n",
      "right         beta\n",
      "central       beta\n",
      "parietal      beta\n",
      "occipital    theta\n",
      "dtype: object\n",
      "\n",
      "        left  frontal  right  central  parietal  occipital\n",
      "theta  54.55    54.17  56.06    57.95     51.14      59.09\n",
      "alpha  56.82    56.82  54.17    56.82     59.09      57.95\n",
      "beta   58.71    61.36  57.58    63.64     61.36      59.09\n",
      "gamma  55.68    57.58  53.41    59.85     60.98      55.30\n"
     ]
    }
   ],
   "source": [
    "print_accuracy('valence', 'knn')"
   ]
  },
  {
   "cell_type": "code",
   "execution_count": null,
   "metadata": {
    "colab": {
     "base_uri": "https://localhost:8080/"
    },
    "id": "X-xeNAe1Lq6i",
    "outputId": "4bc1e740-3f73-43bd-a2cc-2c68c141cb7e"
   },
   "outputs": [
    {
     "name": "stdout",
     "output_type": "stream",
     "text": [
      "frontal    65.15\n",
      "right      63.64\n",
      "central    61.74\n",
      "dtype: float64\n",
      "\n",
      "gamma    65.15\n",
      "theta    59.85\n",
      "dtype: float64\n",
      "\n",
      "theta    occipital\n",
      "alpha     parietal\n",
      "beta      parietal\n",
      "gamma      frontal\n",
      "dtype: object\n",
      "\n",
      "left          beta\n",
      "frontal      gamma\n",
      "right        gamma\n",
      "central      gamma\n",
      "parietal      beta\n",
      "occipital    theta\n",
      "dtype: object\n",
      "\n",
      "        left  frontal  right  central  parietal  occipital\n",
      "theta  54.92    53.79  54.92    58.33     54.17      59.85\n",
      "alpha  52.65    54.55  57.58    56.44     57.95      55.68\n",
      "beta   56.44    57.58  53.03    56.06     58.33      57.20\n",
      "gamma  54.55    65.15  63.64    61.74     58.33      58.33\n"
     ]
    }
   ],
   "source": [
    "print_accuracy('arousal', 'knn')"
   ]
  },
  {
   "cell_type": "markdown",
   "metadata": {
    "id": "uHawo_dHLyUB"
   },
   "source": [
    "###MLP classifier"
   ]
  },
  {
   "cell_type": "code",
   "execution_count": null,
   "metadata": {
    "colab": {
     "base_uri": "https://localhost:8080/"
    },
    "id": "4IZ-R0yyLyUC",
    "outputId": "08e6afaa-d5c9-419d-a274-ca73a790636d"
   },
   "outputs": [
    {
     "name": "stdout",
     "output_type": "stream",
     "text": [
      "occipital    56.44\n",
      "frontal      56.06\n",
      "right        54.92\n",
      "dtype: float64\n",
      "\n",
      "theta    56.44\n",
      "gamma    56.06\n",
      "dtype: float64\n",
      "\n",
      "theta    occipital\n",
      "alpha    occipital\n",
      "beta     occipital\n",
      "gamma      frontal\n",
      "dtype: object\n",
      "\n",
      "left         theta\n",
      "frontal      gamma\n",
      "right        gamma\n",
      "central      gamma\n",
      "parietal     theta\n",
      "occipital    theta\n",
      "dtype: object\n",
      "\n",
      "        left  frontal  right  central  parietal  occipital\n",
      "theta  51.14    43.56  54.17    45.83     51.14      56.44\n",
      "alpha  44.70    45.08  53.79    52.65     49.24      54.55\n",
      "beta   51.14    51.14  53.41    49.24     48.86      54.55\n",
      "gamma  49.62    56.06  54.92    54.55     48.86      50.76\n"
     ]
    }
   ],
   "source": [
    "print_accuracy('valence', 'mlp')"
   ]
  },
  {
   "cell_type": "code",
   "execution_count": null,
   "metadata": {
    "colab": {
     "base_uri": "https://localhost:8080/"
    },
    "id": "od5jlrK5LyUC",
    "outputId": "ce3aec7d-3edf-40ab-9351-24d16a885778"
   },
   "outputs": [
    {
     "name": "stdout",
     "output_type": "stream",
     "text": [
      "parietal    59.09\n",
      "frontal     57.95\n",
      "central     57.95\n",
      "dtype: float64\n",
      "\n",
      "beta     59.09\n",
      "theta    57.95\n",
      "dtype: float64\n",
      "\n",
      "theta     frontal\n",
      "alpha    parietal\n",
      "beta     parietal\n",
      "gamma        left\n",
      "dtype: object\n",
      "\n",
      "left         gamma\n",
      "frontal      theta\n",
      "right        theta\n",
      "central      theta\n",
      "parietal      beta\n",
      "occipital    alpha\n",
      "dtype: object\n",
      "\n",
      "        left  frontal  right  central  parietal  occipital\n",
      "theta  54.17    57.95  55.30    57.95     56.06      51.89\n",
      "alpha  51.14    55.30  53.03    52.65     56.82      52.27\n",
      "beta   54.92    54.17  43.94    54.55     59.09      52.27\n",
      "gamma  56.06    50.38  46.59    56.06     54.55      48.48\n"
     ]
    }
   ],
   "source": [
    "print_accuracy('arousal', 'mlp')"
   ]
  }
 ],
 "metadata": {
  "colab": {
   "collapsed_sections": [
    "bSIWwDsNHauz",
    "AwdusXNJGfqg",
    "IO2bKkvRGx6-",
    "gS3uZ_ADGdkm",
    "XMdTTRpIdzhv",
    "dRcq8aeUkDdK"
   ],
   "name": "eeg-based-emotion-classification.ipynb",
   "provenance": []
  },
  "kernelspec": {
   "display_name": "Python 3",
   "language": "python",
   "name": "python3"
  },
  "language_info": {
   "codemirror_mode": {
    "name": "ipython",
    "version": 3
   },
   "file_extension": ".py",
   "mimetype": "text/x-python",
   "name": "python",
   "nbconvert_exporter": "python",
   "pygments_lexer": "ipython3",
   "version": "3.6.1"
  }
 },
 "nbformat": 4,
 "nbformat_minor": 1
}
